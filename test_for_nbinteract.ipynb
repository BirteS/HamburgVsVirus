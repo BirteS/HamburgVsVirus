{
 "cells": [
  {
   "cell_type": "code",
   "execution_count": 1,
   "metadata": {},
   "outputs": [],
   "source": [
    "\"\"\"\n",
    "May 25, 2020\n",
    "\n",
    "Birte Schmidtmann (birte.schmidtmann@uni-hamburg.de)\n",
    "\n",
    "GNU General Public License\n",
    "\"\"\"\n",
    "\n",
    "import numpy as np\n",
    "import nbinteract as nbi"
   ]
  },
  {
   "cell_type": "code",
   "execution_count": 4,
   "metadata": {},
   "outputs": [
    {
     "data": {
      "application/vnd.jupyter.widget-view+json": {
       "model_id": "0561b512a2ee4f0ea317ea251562ed41",
       "version_major": 2,
       "version_minor": 0
      },
      "text/plain": [
       "VBox(children=(interactive(children=(IntSlider(value=4, description='n', max=7, min=1), IntSlider(value=5, des…"
      ]
     },
     "metadata": {},
     "output_type": "display_data"
    }
   ],
   "source": [
    "# This function generates the x-values\n",
    "def categories(n):\n",
    "    return list('abcdefg')[:n]\n",
    "\n",
    "# This function generates the y-values (heights of bars)\n",
    "# The y response function always takes in the x-values as its\n",
    "# first argument\n",
    "def offset_y(xs, offset):\n",
    "    num_categories = len(xs)\n",
    "    return np.arange(num_categories) + offset\n",
    "\n",
    "# Each argument of the response functions is passed in as a keyword\n",
    "# argument to `nbi.bar` in the same format as `interact`\n",
    "nbi.bar(categories, offset_y, n=(1, 7), offset=(0, 10))"
   ]
  },
  {
   "cell_type": "code",
   "execution_count": null,
   "metadata": {},
   "outputs": [],
   "source": []
  }
 ],
 "metadata": {
  "kernelspec": {
   "display_name": "Python 3",
   "language": "python",
   "name": "python3"
  },
  "language_info": {
   "codemirror_mode": {
    "name": "ipython",
    "version": 3
   },
   "file_extension": ".py",
   "mimetype": "text/x-python",
   "name": "python",
   "nbconvert_exporter": "python",
   "pygments_lexer": "ipython3",
   "version": "3.7.3"
  }
 },
 "nbformat": 4,
 "nbformat_minor": 4
}
